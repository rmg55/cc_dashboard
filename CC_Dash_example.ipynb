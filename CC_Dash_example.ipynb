{
 "cells": [
  {
   "cell_type": "code",
   "execution_count": null,
   "metadata": {},
   "outputs": [],
   "source": [
    "import xarray as xr\n",
    "import geopandas as gpd\n",
    "import glob\n",
    "import datetime\n",
    "import pandas as pd\n",
    "import panel as pn\n",
    "import numpy as np\n",
    "import param as pm\n",
    "import holoviews as hv\n",
    "import geoviews as gv\n",
    "import geoviews.tile_sources as gts\n",
    "from holoviews.element import tiles as hvts\n",
    "from holoviews.operation.datashader import rasterize, shade, spread, aggregate\n",
    "import datashader as ds\n",
    "from collections import OrderedDict as odict\n",
    "from holoviews import opts\n",
    "import matplotlib.pyplot as plt\n",
    "import intake\n",
    "from datashader.utils import lnglat_to_meters\n",
    "from distributed import Client, LocalCluster\n",
    "renderer = hv.renderer('bokeh')\n",
    "hv.extension('bokeh', logo=False)\n",
    "pn.extension(logo=False)\n",
    "import hvplot.dask\n",
    "from cartopy import crs as ccrs"
   ]
  },
  {
   "cell_type": "markdown",
   "metadata": {},
   "source": [
    "Start a Local Dask Cluster"
   ]
  },
  {
   "cell_type": "code",
   "execution_count": null,
   "metadata": {},
   "outputs": [],
   "source": [
    "cluster = LocalCluster()\n",
    "cl = Client(cluster)\n",
    "cl"
   ]
  },
  {
   "cell_type": "markdown",
   "metadata": {},
   "source": [
    "Some Data Preprocessing Functions"
   ]
  },
  {
   "cell_type": "code",
   "execution_count": null,
   "metadata": {},
   "outputs": [],
   "source": [
    "def coord2num(c,negify=False):\n",
    "    if negify:\n",
    "        return(float(c[0:-1])*-1.)\n",
    "    else:\n",
    "        return(float(c[0:-1]))\n",
    "def smithtech_datetime(df):\n",
    "    df['datetime'] = pd.to_datetime(df.DATE*1000000.+df.TIME,format='%y%m%d%H%M%S',errors='coerce')\n",
    "    return(df)\n",
    "\n",
    "def lotek_datetime(df):\n",
    "    df['datetime'] = pd.to_datetime(df['GMT Time'],format=\"%m/%d/%Y %H:%M:%S\")\n",
    "    return(df)"
   ]
  },
  {
   "cell_type": "code",
   "execution_count": null,
   "metadata": {},
   "outputs": [],
   "source": [
    "reformat_data=False\n",
    "if reformat_data:\n",
    "    def coord2num(c):\n",
    "            return(float(c[0:-1]))\n",
    "\n",
    "    df = pd.read_csv('/mnt/T/2-Projects/CattleCollars/Data_SmithTech/HPGRS/BRTE_D2/BRTE_FixData_D2.CSV')\n",
    "    df = df.rename(columns={'LATITUDE N/S':'y','LONGITUDE E/W':'x'})\n",
    "    df['x'] = df['x'].apply(coord2num)\n",
    "    df['y'] = df['y'].apply(coord2num)\n",
    "    df['x'] =df.x*-1.\n",
    "    df.loc[:, 'x_merc'], df.loc[:, 'y_merc'] = lnglat_to_meters(df.x,df.y)\n",
    "    df.to_csv('/mnt/T/2-Projects/CattleCollars/Data_SmithTech/HPGRS/BRTE_D2/BRTE_FixData_D2_____V4.csv')\n",
    "    df.head()"
   ]
  },
  {
   "cell_type": "markdown",
   "metadata": {},
   "source": [
    "Build the Dashboard"
   ]
  },
  {
   "cell_type": "code",
   "execution_count": null,
   "metadata": {},
   "outputs": [],
   "source": [
    "#intake catalog\n",
    "catalog = intake.open_catalog('/mnt/c/Users/rowan.gaffney/Projects/CPER_Data_Ecosystem/RRSRU_Cattle_Collar_Catalog_v2_example.yml')\n",
    "\n",
    "#Define some functions to apply to the data when loaded\n",
    "kwarg_readcsv = {'GPS_CPER_SmithTech':{'converters':{'LATITUDE N/S':lambda x: coord2num(x,negify=False),\n",
    "                                                     'LONGITUDE E/W':lambda x: coord2num(x,negify=True)}},\n",
    "                 'GPS_CPER_SmithTech_LongevityTesting':{'converters':{'LATITUDE N/S':lambda x: coord2num(x,negify=False),\n",
    "                                                                      'LONGITUDE E/W':lambda x: coord2num(x,negify=True)}}}#,\n",
    "                 #'Cattle_GPS_HPGRS_SmithTech':{'converters':{'x':lambda x: convert_to_bounds(x,coord_type='lon'),'y':lambda x: convert_to_bounds(x,coord_type='lat')}}}\n",
    "\n",
    "#Define some of the dashboard options\n",
    "dsets  = odict([(d[0],catalog[d[0]](csv_kwargs=kwarg_readcsv[d[0]])) if d[0] in kwarg_readcsv.keys() else (d[0],catalog[d[0]]) for d in catalog.items()])\n",
    "plots  = odict([(catalog[list(dsets.keys())[0]].metadata['plots'][p].get('label',p),p) for p in catalog[list(dsets.keys())[0]].plots])\n",
    "norms  = odict(Linear='linear', Log='log', Cube_root='cbrt')\n",
    "cmaps  = odict([(n,plt.get_cmap(n)) for n in ['viridis','viridis_r','plasma','plasma_r','inferno','inferno_r','magma','magma_r','cividis','cividis_r']])\n",
    "maps   = ['EsriImagery', 'EsriUSATopo', 'EsriTerrain', 'CartoMidnight', 'StamenWatercolor', 'StamenTonerBackground']\n",
    "bases  = odict([(name, getattr(hvts, name)().relabel(name)) for name in maps])\n",
    "gopts  = hv.opts.Tiles(responsive=True, bgcolor='black', show_grid=False)\n",
    "\n",
    "#Dashboard\n",
    "class Explorer(pm.Parameterized):\n",
    "    dset          = pm.Selector(dsets,label='Data Set')\n",
    "    cmap          = pm.Selector(cmaps,label='Color Map')\n",
    "    basemap       = pm.Selector(bases,label='Base Map')\n",
    "    data_opacity  = pm.Magnitude(1.0,label='Data Opacity')\n",
    "    map_opacity   = pm.Magnitude(1.0,label='Map Opacity')\n",
    "    init_mintime  = datetime.datetime.strptime('20190301','%Y%m%d')\n",
    "    init_maxtime  = datetime.datetime.strptime('20191001','%Y%m%d')\n",
    "    d_range       = pm.DateRange(default=(init_mintime,init_maxtime),\n",
    "                                 bounds=(init_mintime,init_maxtime),\n",
    "                                 label='Date Range')\n",
    "    num_obs       = pm.Integer(0,label='Number of Obs.')\n",
    "    \n",
    "    def __init__(self, **params):\n",
    "        super(Explorer, self).__init__(**params)\n",
    "        self.data=self.load_data()\n",
    "    \n",
    "    @pm.depends('dset',watch=True)\n",
    "    def load_data(self):\n",
    "        if self.dset.metadata['instrument_type']=='Smith_Tech':\n",
    "            df = self.dset.to_dask()\n",
    "            dtype_dict = df.dtypes.to_dict()\n",
    "            dtype_dict['datetime']='datetime64[ns]'#'M8[ns]'\n",
    "            df = df.map_partitions(smithtech_datetime,meta=dtype_dict)\n",
    "        if self.dset.metadata['instrument_type']=='Lotek':\n",
    "            df = self.dset.to_dask()\n",
    "            dtype_dict = df.dtypes.to_dict()\n",
    "            dtype_dict['datetime']='datetime64[ns]'\n",
    "            df = df.map_partitions(lotek_datetime,meta=dtype_dict)\n",
    "        self.data=df.persist()\n",
    "        n_bounds = (self.data.datetime.min().compute().to_pydatetime(),\n",
    "                    self.data.datetime.max().compute().to_pydatetime())\n",
    "        self.param['d_range'].bounds = n_bounds\n",
    "        self.param.set_param(d_range=n_bounds)\n",
    "    \n",
    "    @pm.depends('load_data','d_range',watch=True)\n",
    "    def elem(self):\n",
    "        df = self.data#\n",
    "        df = df[(df.datetime>=self.d_range[0])&(df.datetime<=self.d_range[1])]\n",
    "        self.param['num_obs'].default = len(df)\n",
    "        self.param.set_param(num_obs=len(df))\n",
    "        return getattr(df, 'hvplot')(x=self.dset.metadata['x'],\n",
    "                                     y=self.dset.metadata['y'],\n",
    "                                     kind='points',\n",
    "                                     geo=True,\n",
    "                                     crs=ccrs.PlateCarree())\n",
    "\n",
    "    @pm.depends('map_opacity', 'basemap')\n",
    "    def tiles(self):\n",
    "        return self.basemap.opts(gopts).opts(alpha=self.map_opacity)\n",
    "    \n",
    "    @pm.depends('dset',watch=True)\n",
    "    def viewable(self,**kwargs):\n",
    "        if self.data is None:\n",
    "            self.load_data()\n",
    "        rasterized = rasterize(hv.DynamicMap(self.elem),\n",
    "                               aggregator='count').opts(colorbar=True,\n",
    "                                                        logz=True,tools=['hover'],\n",
    "                                                        clipping_colors={'min': 'transparent'}).apply.opts(alpha=self.param.data_opacity,\n",
    "                                                                                                           cmap=self.param.cmap).redim.range(Count=(1., None),\n",
    "                                                                                                                                             x=(-106,-103.5),\n",
    "                                                                                                                                             y=(40.5,41.3))\n",
    "        return hv.DynamicMap(self.tiles)*rasterized\n",
    "\n",
    "explorer = Explorer(name='',)"
   ]
  },
  {
   "cell_type": "code",
   "execution_count": null,
   "metadata": {},
   "outputs": [],
   "source": [
    "#Define the Dashboard/Layout\n",
    "logo = \"https://ltar.ars.usda.gov/wp-content/uploads/2018/10/usda_ltar_logo_header_v3.png\"\n",
    "panel1 = pn.GridSpec(sizing_mode='stretch_both')\n",
    "panel1[0,0]=pn.Row(logo)\n",
    "panel1[1:3,0] =  pn.Column(pn.Param(explorer.param.dset),\n",
    "                           pn.Param(explorer.param.data_opacity),\n",
    "                           pn.Param(explorer.param.cmap),\n",
    "                           pn.Param(explorer.param.d_range),\n",
    "                           pn.WidgetBox(explorer.param.num_obs,),\n",
    "                           pn.Param(explorer.param.basemap),\n",
    "                           pn.Param(explorer.param.map_opacity))\n",
    "panel1[0:5,1:5] =  explorer.viewable()\n",
    "\n",
    "panel2 = pn.GridSpec(sizing_mode='stretch_both')\n",
    "panel2[0,0]=pn.Row(logo)\n",
    "panel2[1,0:4] = catalog.gui.panel\n",
    "\n",
    "panel = pn.Tabs(('Collar Visualization',pn.Pane(panel1)),('Collar Data Details',pn.Pane(panel2)))"
   ]
  },
  {
   "cell_type": "markdown",
   "metadata": {},
   "source": [
    "Launch the Dashboard"
   ]
  },
  {
   "cell_type": "code",
   "execution_count": null,
   "metadata": {},
   "outputs": [],
   "source": [
    "pn.serve(panel,show=False)"
   ]
  }
 ],
 "metadata": {
  "kernelspec": {
   "display_name": "Python [conda env:py_geo]",
   "language": "python",
   "name": "conda-env-py_geo-py"
  },
  "language_info": {
   "codemirror_mode": {
    "name": "ipython",
    "version": 3
   },
   "file_extension": ".py",
   "mimetype": "text/x-python",
   "name": "python",
   "nbconvert_exporter": "python",
   "pygments_lexer": "ipython3",
   "version": "3.7.6"
  }
 },
 "nbformat": 4,
 "nbformat_minor": 4
}
